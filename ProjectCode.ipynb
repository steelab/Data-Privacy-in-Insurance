{
  "nbformat": 4,
  "nbformat_minor": 0,
  "metadata": {
    "colab": {
      "name": "ProjectCode",
      "provenance": [],
      "collapsed_sections": []
    },
    "kernelspec": {
      "name": "python3",
      "display_name": "Python 3"
    }
  },
  "cells": [
    {
      "cell_type": "markdown",
      "metadata": {
        "id": "pcH5Xxp-1SD6"
      },
      "source": [
        "DS300 Final Project Group 1 "
      ]
    },
    {
      "cell_type": "code",
      "metadata": {
        "colab": {
          "base_uri": "https://localhost:8080/",
          "height": 415
        },
        "id": "cVjldld6oU4b",
        "outputId": "98152847-f212-4cad-c433-e3078657b1bb"
      },
      "source": [
        "import pandas as pd\n",
        "import matplotlib as plt\n",
        "import seaborn as sns\n",
        "\n",
        "\n",
        "url = 'https://raw.githubusercontent.com/steelab/Data-Privacy-in-Insurance/main/insurance.csv'\n",
        "df = pd.read_csv(url)\n",
        "df\n"
      ],
      "execution_count": null,
      "outputs": [
        {
          "output_type": "execute_result",
          "data": {
            "text/html": [
              "<div>\n",
              "<style scoped>\n",
              "    .dataframe tbody tr th:only-of-type {\n",
              "        vertical-align: middle;\n",
              "    }\n",
              "\n",
              "    .dataframe tbody tr th {\n",
              "        vertical-align: top;\n",
              "    }\n",
              "\n",
              "    .dataframe thead th {\n",
              "        text-align: right;\n",
              "    }\n",
              "</style>\n",
              "<table border=\"1\" class=\"dataframe\">\n",
              "  <thead>\n",
              "    <tr style=\"text-align: right;\">\n",
              "      <th></th>\n",
              "      <th>age</th>\n",
              "      <th>sex</th>\n",
              "      <th>bmi</th>\n",
              "      <th>children</th>\n",
              "      <th>smoker</th>\n",
              "      <th>region</th>\n",
              "      <th>charges</th>\n",
              "    </tr>\n",
              "  </thead>\n",
              "  <tbody>\n",
              "    <tr>\n",
              "      <th>0</th>\n",
              "      <td>19</td>\n",
              "      <td>female</td>\n",
              "      <td>27.900</td>\n",
              "      <td>0</td>\n",
              "      <td>yes</td>\n",
              "      <td>southwest</td>\n",
              "      <td>16884.92400</td>\n",
              "    </tr>\n",
              "    <tr>\n",
              "      <th>1</th>\n",
              "      <td>18</td>\n",
              "      <td>male</td>\n",
              "      <td>33.770</td>\n",
              "      <td>1</td>\n",
              "      <td>no</td>\n",
              "      <td>southeast</td>\n",
              "      <td>1725.55230</td>\n",
              "    </tr>\n",
              "    <tr>\n",
              "      <th>2</th>\n",
              "      <td>28</td>\n",
              "      <td>male</td>\n",
              "      <td>33.000</td>\n",
              "      <td>3</td>\n",
              "      <td>no</td>\n",
              "      <td>southeast</td>\n",
              "      <td>4449.46200</td>\n",
              "    </tr>\n",
              "    <tr>\n",
              "      <th>3</th>\n",
              "      <td>33</td>\n",
              "      <td>male</td>\n",
              "      <td>22.705</td>\n",
              "      <td>0</td>\n",
              "      <td>no</td>\n",
              "      <td>northwest</td>\n",
              "      <td>21984.47061</td>\n",
              "    </tr>\n",
              "    <tr>\n",
              "      <th>4</th>\n",
              "      <td>32</td>\n",
              "      <td>male</td>\n",
              "      <td>28.880</td>\n",
              "      <td>0</td>\n",
              "      <td>no</td>\n",
              "      <td>northwest</td>\n",
              "      <td>3866.85520</td>\n",
              "    </tr>\n",
              "    <tr>\n",
              "      <th>...</th>\n",
              "      <td>...</td>\n",
              "      <td>...</td>\n",
              "      <td>...</td>\n",
              "      <td>...</td>\n",
              "      <td>...</td>\n",
              "      <td>...</td>\n",
              "      <td>...</td>\n",
              "    </tr>\n",
              "    <tr>\n",
              "      <th>1333</th>\n",
              "      <td>50</td>\n",
              "      <td>male</td>\n",
              "      <td>30.970</td>\n",
              "      <td>3</td>\n",
              "      <td>no</td>\n",
              "      <td>northwest</td>\n",
              "      <td>10600.54830</td>\n",
              "    </tr>\n",
              "    <tr>\n",
              "      <th>1334</th>\n",
              "      <td>18</td>\n",
              "      <td>female</td>\n",
              "      <td>31.920</td>\n",
              "      <td>0</td>\n",
              "      <td>no</td>\n",
              "      <td>northeast</td>\n",
              "      <td>2205.98080</td>\n",
              "    </tr>\n",
              "    <tr>\n",
              "      <th>1335</th>\n",
              "      <td>18</td>\n",
              "      <td>female</td>\n",
              "      <td>36.850</td>\n",
              "      <td>0</td>\n",
              "      <td>no</td>\n",
              "      <td>southeast</td>\n",
              "      <td>1629.83350</td>\n",
              "    </tr>\n",
              "    <tr>\n",
              "      <th>1336</th>\n",
              "      <td>21</td>\n",
              "      <td>female</td>\n",
              "      <td>25.800</td>\n",
              "      <td>0</td>\n",
              "      <td>no</td>\n",
              "      <td>southwest</td>\n",
              "      <td>2007.94500</td>\n",
              "    </tr>\n",
              "    <tr>\n",
              "      <th>1337</th>\n",
              "      <td>61</td>\n",
              "      <td>female</td>\n",
              "      <td>29.070</td>\n",
              "      <td>0</td>\n",
              "      <td>yes</td>\n",
              "      <td>northwest</td>\n",
              "      <td>29141.36030</td>\n",
              "    </tr>\n",
              "  </tbody>\n",
              "</table>\n",
              "<p>1338 rows × 7 columns</p>\n",
              "</div>"
            ],
            "text/plain": [
              "      age     sex     bmi  children smoker     region      charges\n",
              "0      19  female  27.900         0    yes  southwest  16884.92400\n",
              "1      18    male  33.770         1     no  southeast   1725.55230\n",
              "2      28    male  33.000         3     no  southeast   4449.46200\n",
              "3      33    male  22.705         0     no  northwest  21984.47061\n",
              "4      32    male  28.880         0     no  northwest   3866.85520\n",
              "...   ...     ...     ...       ...    ...        ...          ...\n",
              "1333   50    male  30.970         3     no  northwest  10600.54830\n",
              "1334   18  female  31.920         0     no  northeast   2205.98080\n",
              "1335   18  female  36.850         0     no  southeast   1629.83350\n",
              "1336   21  female  25.800         0     no  southwest   2007.94500\n",
              "1337   61  female  29.070         0    yes  northwest  29141.36030\n",
              "\n",
              "[1338 rows x 7 columns]"
            ]
          },
          "metadata": {
            "tags": []
          },
          "execution_count": 15
        }
      ]
    },
    {
      "cell_type": "markdown",
      "metadata": {
        "id": "FxM6WKDs1NxM"
      },
      "source": [
        ""
      ]
    },
    {
      "cell_type": "code",
      "metadata": {
        "id": "41hXanvD1OZP",
        "colab": {
          "base_uri": "https://localhost:8080/",
          "height": 202
        },
        "outputId": "a41f417a-292f-4870-ae51-4c408db5e5a2"
      },
      "source": [
        "#mapping certain variables to numerical values\n",
        "df['sex']= df['sex'].map({'male':0,'female':1})\n",
        "df['smoker']= df['smoker'].map({'yes':1,'no':0})\n",
        "\n",
        "df.head()"
      ],
      "execution_count": null,
      "outputs": [
        {
          "output_type": "execute_result",
          "data": {
            "text/html": [
              "<div>\n",
              "<style scoped>\n",
              "    .dataframe tbody tr th:only-of-type {\n",
              "        vertical-align: middle;\n",
              "    }\n",
              "\n",
              "    .dataframe tbody tr th {\n",
              "        vertical-align: top;\n",
              "    }\n",
              "\n",
              "    .dataframe thead th {\n",
              "        text-align: right;\n",
              "    }\n",
              "</style>\n",
              "<table border=\"1\" class=\"dataframe\">\n",
              "  <thead>\n",
              "    <tr style=\"text-align: right;\">\n",
              "      <th></th>\n",
              "      <th>age</th>\n",
              "      <th>sex</th>\n",
              "      <th>bmi</th>\n",
              "      <th>children</th>\n",
              "      <th>smoker</th>\n",
              "      <th>region</th>\n",
              "      <th>charges</th>\n",
              "    </tr>\n",
              "  </thead>\n",
              "  <tbody>\n",
              "    <tr>\n",
              "      <th>0</th>\n",
              "      <td>19</td>\n",
              "      <td>1</td>\n",
              "      <td>27.900</td>\n",
              "      <td>0</td>\n",
              "      <td>1</td>\n",
              "      <td>southwest</td>\n",
              "      <td>16884.92400</td>\n",
              "    </tr>\n",
              "    <tr>\n",
              "      <th>1</th>\n",
              "      <td>18</td>\n",
              "      <td>0</td>\n",
              "      <td>33.770</td>\n",
              "      <td>1</td>\n",
              "      <td>0</td>\n",
              "      <td>southeast</td>\n",
              "      <td>1725.55230</td>\n",
              "    </tr>\n",
              "    <tr>\n",
              "      <th>2</th>\n",
              "      <td>28</td>\n",
              "      <td>0</td>\n",
              "      <td>33.000</td>\n",
              "      <td>3</td>\n",
              "      <td>0</td>\n",
              "      <td>southeast</td>\n",
              "      <td>4449.46200</td>\n",
              "    </tr>\n",
              "    <tr>\n",
              "      <th>3</th>\n",
              "      <td>33</td>\n",
              "      <td>0</td>\n",
              "      <td>22.705</td>\n",
              "      <td>0</td>\n",
              "      <td>0</td>\n",
              "      <td>northwest</td>\n",
              "      <td>21984.47061</td>\n",
              "    </tr>\n",
              "    <tr>\n",
              "      <th>4</th>\n",
              "      <td>32</td>\n",
              "      <td>0</td>\n",
              "      <td>28.880</td>\n",
              "      <td>0</td>\n",
              "      <td>0</td>\n",
              "      <td>northwest</td>\n",
              "      <td>3866.85520</td>\n",
              "    </tr>\n",
              "  </tbody>\n",
              "</table>\n",
              "</div>"
            ],
            "text/plain": [
              "   age  sex     bmi  children  smoker     region      charges\n",
              "0   19    1  27.900         0       1  southwest  16884.92400\n",
              "1   18    0  33.770         1       0  southeast   1725.55230\n",
              "2   28    0  33.000         3       0  southeast   4449.46200\n",
              "3   33    0  22.705         0       0  northwest  21984.47061\n",
              "4   32    0  28.880         0       0  northwest   3866.85520"
            ]
          },
          "metadata": {
            "tags": []
          },
          "execution_count": 16
        }
      ]
    },
    {
      "cell_type": "code",
      "metadata": {
        "colab": {
          "base_uri": "https://localhost:8080/",
          "height": 391
        },
        "id": "2FMjO_YEsKha",
        "outputId": "e8d82164-c2ca-441f-cc53-ae24e222bfee"
      },
      "source": [
        "print(df.children.value_counts())\n",
        "sns.heatmap(df.corr());\n"
      ],
      "execution_count": null,
      "outputs": [
        {
          "output_type": "stream",
          "text": [
            "0    574\n",
            "1    324\n",
            "2    240\n",
            "3    157\n",
            "4     25\n",
            "5     18\n",
            "Name: children, dtype: int64\n"
          ],
          "name": "stdout"
        },
        {
          "output_type": "display_data",
          "data": {
            "image/png": "[encoded data removed]",
            "text/plain": [
              "<Figure size 432x288 with 2 Axes>"
            ]
          },
          "metadata": {
            "tags": [],
            "needs_background": "light"
          }
        }
      ]
    },
    {
      "cell_type": "code",
      "metadata": {
        "id": "XokXXINk68gF",
        "colab": {
          "base_uri": "https://localhost:8080/"
        },
        "outputId": "9a1aa606-06e2-498e-9253-7d4abd2c676a"
      },
      "source": [
        "#changing the data type of the variables in our dataset to categorical \n",
        "categorical = set((\n",
        "    'sex',\n",
        "    'smoker',\n",
        "    'region',\n",
        "))\n",
        "for name in categorical:\n",
        "    df[name] = df[name].astype('category')\n",
        "df.dtypes"
      ],
      "execution_count": null,
      "outputs": [
        {
          "output_type": "execute_result",
          "data": {
            "text/plain": [
              "age            int64\n",
              "sex         category\n",
              "bmi          float64\n",
              "children       int64\n",
              "smoker      category\n",
              "region      category\n",
              "charges      float64\n",
              "dtype: object"
            ]
          },
          "metadata": {
            "tags": []
          },
          "execution_count": 18
        }
      ]
    },
    {
      "cell_type": "markdown",
      "metadata": {
        "id": "BDpT-43m_u6f"
      },
      "source": [
        "Implement a function that returns the spans (max-min for numerical columns, number of different values for categorical columns) of all columns for a partition of a dataframe.   More info on spans https://pypi.org/project/Spans/\n",
        "\n",
        "\n"
      ]
    },
    {
      "cell_type": "code",
      "metadata": {
        "id": "nGS3cKi06_LS"
      },
      "source": [
        "\n",
        "def get_spans(df, partition, scale=None):\n",
        "    \"\"\"\n",
        "    :param        df: the dataframe for which to calculate the spans\n",
        "    :param partition: the partition for which to calculate the spans\n",
        "    :param     scale: if given, the spans of each column will be divided\n",
        "                      by the value in `scale` for that column\n",
        "    :        returns: The spans of all columns in the partition\n",
        "    \"\"\"\n",
        "    spans = {}\n",
        "    for column in df.columns:\n",
        "        if column in categorical:\n",
        "            span = len(df[column][partition].unique())\n",
        "        else:\n",
        "            span = df[column][partition].max()-df[column][partition].min()\n",
        "        if scale is not None:\n",
        "            span = span/scale[column]\n",
        "        spans[column] = span\n",
        "    return spans\n"
      ],
      "execution_count": null,
      "outputs": []
    },
    {
      "cell_type": "code",
      "metadata": {
        "colab": {
          "base_uri": "https://localhost:8080/"
        },
        "id": "AVm5d_1v7Hy7",
        "outputId": "76361033-f4a7-4e4d-ffb9-264dd1628013"
      },
      "source": [
        "full_spans = get_spans(df, df.index)\n",
        "full_spans"
      ],
      "execution_count": null,
      "outputs": [
        {
          "output_type": "execute_result",
          "data": {
            "text/plain": [
              "{'age': 46,\n",
              " 'bmi': 37.17,\n",
              " 'charges': 62648.554110000005,\n",
              " 'children': 5,\n",
              " 'region': 4,\n",
              " 'sex': 2,\n",
              " 'smoker': 2}"
            ]
          },
          "metadata": {
            "tags": []
          },
          "execution_count": 20
        }
      ]
    },
    {
      "cell_type": "markdown",
      "metadata": {
        "id": "9-pXLpIOSesW"
      },
      "source": [
        "Implement a split function that takes a dataframe, partition and column and returns two partitions that split the given partition such that all rows with values of the column column below the median are in one partition and all rows with values above or equal to the median are in the other.\n",
        "\n"
      ]
    },
    {
      "cell_type": "code",
      "metadata": {
        "id": "2R7E-p8k7OYc"
      },
      "source": [
        "def split(df, partition, column): ## divides values by median \n",
        "    \"\"\"\n",
        "    :param        df: The dataframe to split\n",
        "    :param partition: The partition to split\n",
        "    :param    column: The column along which to split\n",
        "    :        returns: A tuple containing a split of the original partition\n",
        "    \"\"\"\n",
        "    dfp = df[column][partition]\n",
        "    if column in categorical:\n",
        "        values = dfp.unique()\n",
        "        lv = set(values[:len(values)//2])\n",
        "        rv = set(values[len(values)//2:])\n",
        "        return dfp.index[dfp.isin(lv)], dfp.index[dfp.isin(rv)]\n",
        "    else:        \n",
        "        median = dfp.median()\n",
        "        dfl = dfp.index[dfp < median]\n",
        "        dfr = dfp.index[dfp >= median]\n",
        "        return (dfl, dfr)"
      ],
      "execution_count": null,
      "outputs": []
    },
    {
      "cell_type": "code",
      "metadata": {
        "id": "F1miKg3L7cPL"
      },
      "source": [
        "def is_k_anonymous(df, partition, sensitive_column, k=3):\n",
        "    \"\"\"\n",
        "    :param               df: The dataframe on which to check the partition.\n",
        "    :param        partition: The partition of the dataframe to check.\n",
        "    :param sensitive_column: The name of the sensitive column\n",
        "    :param                k: The desired k\n",
        "    :returns               : True if the partition is valid according to our k-anonymity criteria, False otherwise.\n",
        "    \"\"\"\n",
        "    if len(partition) < k:\n",
        "        return False\n",
        "    return True\n",
        "\n",
        "def partition_dataset(df, feature_columns, sensitive_column, scale, is_valid):\n",
        "    \"\"\"\n",
        "    :param               df: The dataframe to be partitioned.\n",
        "    :param  feature_columns: A list of column names along which to partition the dataset.\n",
        "    :param sensitive_column: The name of the sensitive column (to be passed on to the `is_valid` function)\n",
        "    :param            scale: The column spans as generated before.\n",
        "    :param         is_valid: A function that takes a dataframe and a partition and returns True if the partition is valid.\n",
        "    :returns               : A list of valid partitions that cover the entire dataframe.\n",
        "    \"\"\"\n",
        "    finished_partitions = []\n",
        "    partitions = [df.index]\n",
        "    while partitions:\n",
        "        partition = partitions.pop(0)\n",
        "        spans = get_spans(df[feature_columns], partition, scale)\n",
        "        for column, span in sorted(spans.items(), key=lambda x:-x[1]):\n",
        "            lp, rp = split(df, partition, column)\n",
        "            if not is_valid(df, lp, sensitive_column) or not is_valid(df, rp, sensitive_column):\n",
        "                continue\n",
        "            partitions.extend((lp, rp))\n",
        "            break\n",
        "        else:\n",
        "            finished_partitions.append(partition)\n",
        "    return finished_partitions"
      ],
      "execution_count": null,
      "outputs": []
    },
    {
      "cell_type": "code",
      "metadata": {
        "colab": {
          "base_uri": "https://localhost:8080/"
        },
        "id": "lDtzzqYJ7mbe",
        "outputId": "56743a5f-0164-4493-bd13-52864ebd3916"
      },
      "source": [
        "# we apply our partitioning method to three columns of our dataset, using \"charges\" as the sensitive attribute\n",
        "feature_columns = ['age', 'bmi', 'children']\n",
        "sensitive_column = 'charges'\n",
        "finished_partitions = partition_dataset(df, feature_columns, sensitive_column, full_spans, is_k_anonymous)\n",
        "\n",
        "# we get the number of partitions that were created\n",
        "len(finished_partitions)"
      ],
      "execution_count": null,
      "outputs": [
        {
          "output_type": "execute_result",
          "data": {
            "text/plain": [
              "347"
            ]
          },
          "metadata": {
            "tags": []
          },
          "execution_count": 23
        }
      ]
    },
    {
      "cell_type": "code",
      "metadata": {
        "id": "_25NHW6q7-c1"
      },
      "source": [
        "import matplotlib.pylab as pl\n",
        "import matplotlib.patches as patches"
      ],
      "execution_count": null,
      "outputs": []
    },
    {
      "cell_type": "code",
      "metadata": {
        "id": "H8GjXIUD8GcQ"
      },
      "source": [
        "def build_indexes(df):\n",
        "    indexes = {}\n",
        "    for column in categorical:\n",
        "        values = sorted(df[column].unique())\n",
        "        indexes[column] = { x : y for x, y in zip(values, range(len(values)))}\n",
        "    return indexes\n",
        "\n",
        "def get_coords(df, column, partition, indexes, offset=0.1):\n",
        "    if column in categorical:\n",
        "        sv = df[column][partition].sort_values()\n",
        "        l, r = indexes[column][sv[sv.index[0]]], indexes[column][sv[sv.index[-1]]]+1.0\n",
        "    else:\n",
        "        sv = df[column][partition].sort_values()\n",
        "        next_value = sv[sv.index[-1]]\n",
        "        larger_values = df[df[column] > next_value][column]\n",
        "        if len(larger_values) > 0:\n",
        "            next_value = larger_values.min()\n",
        "        l = sv[sv.index[0]]\n",
        "        r = next_value\n",
        "    # we add some offset to make the partitions more easily visible\n",
        "    l -= offset\n",
        "    r += offset\n",
        "    return l, r\n",
        "\n",
        "def get_partition_rects(df, partitions, column_x, column_y, indexes, offsets=[0.1, 0.1]):\n",
        "    rects = []\n",
        "    for partition in partitions:\n",
        "        xl, xr = get_coords(df, column_x, partition, indexes, offset=offsets[0])\n",
        "        yl, yr = get_coords(df, column_y, partition, indexes, offset=offsets[1])\n",
        "        rects.append(((xl, yl),(xr, yr)))\n",
        "    return rects\n",
        "\n",
        "def get_bounds(df, column, indexes, offset=1.0):\n",
        "    if column in categorical:\n",
        "        return 0-offset, len(indexes[column])+offset\n",
        "    return df[column].min()-offset, df[column].max()+offset\n",
        "\n",
        "# we calculate the bounding rects of all partitions that we created\n",
        "indexes = build_indexes(df)\n",
        "column_x, column_y = feature_columns[:2]\n",
        "rects = get_partition_rects(df, finished_partitions, column_x, column_y, indexes, offsets=[0.0, 0.0])"
      ],
      "execution_count": null,
      "outputs": []
    },
    {
      "cell_type": "code",
      "metadata": {
        "id": "WDlIDiyd8R5K"
      },
      "source": [
        "def agg_categorical_column(series):\n",
        "    return [','.join(set(series))]\n",
        "\n",
        "def agg_numerical_column(series):\n",
        "    return [series.mean()]"
      ],
      "execution_count": null,
      "outputs": []
    },
    {
      "cell_type": "code",
      "metadata": {
        "id": "WE_9qcQc8VLT",
        "colab": {
          "base_uri": "https://localhost:8080/"
        },
        "outputId": "aca430f3-20c9-4ca4-c7af-b936bc24c738"
      },
      "source": [
        "def build_anonymized_dataset(df, partitions, feature_columns, sensitive_column, max_partitions=None):\n",
        "    aggregations = {}\n",
        "    for column in feature_columns:\n",
        "        if column in categorical:\n",
        "            aggregations[column] = agg_categorical_column\n",
        "        else:\n",
        "            aggregations[column] = agg_numerical_column\n",
        "\n",
        "    rows = []\n",
        "    for i, partition in enumerate(partitions):\n",
        "        if i % 100 == 1:\n",
        "            print(\"Finished {} partitions...\".format(i))\n",
        "        if max_partitions is not None and i > max_partitions:\n",
        "            break\n",
        "\n",
        "        grouped_columns = df.loc[partition].agg(aggregations, squeeze=False)\n",
        "       \n",
        "        sensitive_counts = df.loc[partition].groupby(sensitive_column).agg({sensitive_column : 'count'})\n",
        "        values = grouped_columns.iloc[0].to_dict()   #ERROR HERE\n",
        "        for sensitive_value, count in sensitive_counts[sensitive_column].items():\n",
        "            if count == 0:\n",
        "                continue\n",
        "            values.update({\n",
        "                sensitive_column : sensitive_value,\n",
        "                'count' : count,\n",
        "\n",
        "            })\n",
        "            rows.append(values.copy())\n",
        "    return pd.DataFrame(rows)\n",
        "\n",
        "dfn = build_anonymized_dataset(df, finished_partitions, feature_columns, sensitive_column)"
      ],
      "execution_count": null,
      "outputs": [
        {
          "output_type": "stream",
          "text": [
            "Finished 1 partitions...\n",
            "Finished 101 partitions...\n",
            "Finished 201 partitions...\n",
            "Finished 301 partitions...\n"
          ],
          "name": "stdout"
        }
      ]
    },
    {
      "cell_type": "code",
      "metadata": {
        "colab": {
          "base_uri": "https://localhost:8080/"
        },
        "id": "EyyqoTfnTLUA",
        "outputId": "85048a0d-6767-453b-ac5f-9d47eb96af90"
      },
      "source": [
        "feature_columns"
      ],
      "execution_count": null,
      "outputs": [
        {
          "output_type": "execute_result",
          "data": {
            "text/plain": [
              "['age', 'bmi', 'children']"
            ]
          },
          "metadata": {
            "tags": []
          },
          "execution_count": 28
        }
      ]
    },
    {
      "cell_type": "code",
      "metadata": {
        "colab": {
          "base_uri": "https://localhost:8080/"
        },
        "id": "J4Pyu_hk8Xg_",
        "outputId": "6af95b1c-6099-46a0-9886-d5dbffb0f91f"
      },
      "source": [
        "dfn = build_anonymized_dataset(df, finished_partitions, feature_columns, sensitive_column)"
      ],
      "execution_count": null,
      "outputs": [
        {
          "output_type": "stream",
          "text": [
            "Finished 1 partitions...\n",
            "Finished 101 partitions...\n",
            "Finished 201 partitions...\n",
            "Finished 301 partitions...\n"
          ],
          "name": "stdout"
        }
      ]
    },
    {
      "cell_type": "code",
      "metadata": {
        "id": "KFe-ek3i8aFh",
        "colab": {
          "base_uri": "https://localhost:8080/",
          "height": 415
        },
        "outputId": "21850844-0a6f-4ba9-858a-0cf940beca8f"
      },
      "source": [
        "# we sort the resulting dataframe using the feature columns and the sensitive attribute\n",
        "dfn.sort_values(feature_columns+[sensitive_column])"
      ],
      "execution_count": null,
      "outputs": [
        {
          "output_type": "execute_result",
          "data": {
            "text/html": [
              "<div>\n",
              "<style scoped>\n",
              "    .dataframe tbody tr th:only-of-type {\n",
              "        vertical-align: middle;\n",
              "    }\n",
              "\n",
              "    .dataframe tbody tr th {\n",
              "        vertical-align: top;\n",
              "    }\n",
              "\n",
              "    .dataframe thead th {\n",
              "        text-align: right;\n",
              "    }\n",
              "</style>\n",
              "<table border=\"1\" class=\"dataframe\">\n",
              "  <thead>\n",
              "    <tr style=\"text-align: right;\">\n",
              "      <th></th>\n",
              "      <th>age</th>\n",
              "      <th>bmi</th>\n",
              "      <th>children</th>\n",
              "      <th>charges</th>\n",
              "      <th>count</th>\n",
              "    </tr>\n",
              "  </thead>\n",
              "  <tbody>\n",
              "    <tr>\n",
              "      <th>24</th>\n",
              "      <td>18.000000</td>\n",
              "      <td>21.371250</td>\n",
              "      <td>0.0</td>\n",
              "      <td>1607.51010</td>\n",
              "      <td>1</td>\n",
              "    </tr>\n",
              "    <tr>\n",
              "      <th>25</th>\n",
              "      <td>18.000000</td>\n",
              "      <td>21.371250</td>\n",
              "      <td>0.0</td>\n",
              "      <td>1702.45530</td>\n",
              "      <td>1</td>\n",
              "    </tr>\n",
              "    <tr>\n",
              "      <th>26</th>\n",
              "      <td>18.000000</td>\n",
              "      <td>21.371250</td>\n",
              "      <td>0.0</td>\n",
              "      <td>13747.87235</td>\n",
              "      <td>1</td>\n",
              "    </tr>\n",
              "    <tr>\n",
              "      <th>27</th>\n",
              "      <td>18.000000</td>\n",
              "      <td>21.371250</td>\n",
              "      <td>0.0</td>\n",
              "      <td>14283.45940</td>\n",
              "      <td>1</td>\n",
              "    </tr>\n",
              "    <tr>\n",
              "      <th>33</th>\n",
              "      <td>18.000000</td>\n",
              "      <td>23.095000</td>\n",
              "      <td>0.0</td>\n",
              "      <td>1121.87390</td>\n",
              "      <td>1</td>\n",
              "    </tr>\n",
              "    <tr>\n",
              "      <th>...</th>\n",
              "      <td>...</td>\n",
              "      <td>...</td>\n",
              "      <td>...</td>\n",
              "      <td>...</td>\n",
              "      <td>...</td>\n",
              "    </tr>\n",
              "    <tr>\n",
              "      <th>978</th>\n",
              "      <td>63.333333</td>\n",
              "      <td>27.201667</td>\n",
              "      <td>0.0</td>\n",
              "      <td>29330.98315</td>\n",
              "      <td>1</td>\n",
              "    </tr>\n",
              "    <tr>\n",
              "      <th>979</th>\n",
              "      <td>63.333333</td>\n",
              "      <td>27.201667</td>\n",
              "      <td>0.0</td>\n",
              "      <td>29523.16560</td>\n",
              "      <td>1</td>\n",
              "    </tr>\n",
              "    <tr>\n",
              "      <th>1327</th>\n",
              "      <td>63.666667</td>\n",
              "      <td>31.775000</td>\n",
              "      <td>2.0</td>\n",
              "      <td>16069.08475</td>\n",
              "      <td>1</td>\n",
              "    </tr>\n",
              "    <tr>\n",
              "      <th>1328</th>\n",
              "      <td>63.666667</td>\n",
              "      <td>31.775000</td>\n",
              "      <td>2.0</td>\n",
              "      <td>47291.05500</td>\n",
              "      <td>1</td>\n",
              "    </tr>\n",
              "    <tr>\n",
              "      <th>1329</th>\n",
              "      <td>63.666667</td>\n",
              "      <td>31.775000</td>\n",
              "      <td>2.0</td>\n",
              "      <td>47305.30500</td>\n",
              "      <td>1</td>\n",
              "    </tr>\n",
              "  </tbody>\n",
              "</table>\n",
              "<p>1337 rows × 5 columns</p>\n",
              "</div>"
            ],
            "text/plain": [
              "            age        bmi  children      charges  count\n",
              "24    18.000000  21.371250       0.0   1607.51010      1\n",
              "25    18.000000  21.371250       0.0   1702.45530      1\n",
              "26    18.000000  21.371250       0.0  13747.87235      1\n",
              "27    18.000000  21.371250       0.0  14283.45940      1\n",
              "33    18.000000  23.095000       0.0   1121.87390      1\n",
              "...         ...        ...       ...          ...    ...\n",
              "978   63.333333  27.201667       0.0  29330.98315      1\n",
              "979   63.333333  27.201667       0.0  29523.16560      1\n",
              "1327  63.666667  31.775000       2.0  16069.08475      1\n",
              "1328  63.666667  31.775000       2.0  47291.05500      1\n",
              "1329  63.666667  31.775000       2.0  47305.30500      1\n",
              "\n",
              "[1337 rows x 5 columns]"
            ]
          },
          "metadata": {
            "tags": []
          },
          "execution_count": 30
        }
      ]
    },
    {
      "cell_type": "code",
      "metadata": {
        "colab": {
          "base_uri": "https://localhost:8080/"
        },
        "id": "xJ_GLjIbTz_B",
        "outputId": "6be9e23c-4fd5-482c-a505-278bb9bfe7c8"
      },
      "source": [
        "df.region.value_counts()"
      ],
      "execution_count": null,
      "outputs": [
        {
          "output_type": "execute_result",
          "data": {
            "text/plain": [
              "southeast    364\n",
              "southwest    325\n",
              "northwest    325\n",
              "northeast    324\n",
              "Name: region, dtype: int64"
            ]
          },
          "metadata": {
            "tags": []
          },
          "execution_count": 31
        }
      ]
    }
  ]
}